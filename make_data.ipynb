{
 "cells": [
  {
   "cell_type": "code",
   "execution_count": 33,
   "metadata": {},
   "outputs": [],
   "source": [
    "import pandas as pd\n",
    "from make_data import *"
   ]
  },
  {
   "cell_type": "markdown",
   "metadata": {},
   "source": [
    "# Get dict to classify themes"
   ]
  },
  {
   "cell_type": "code",
   "execution_count": 2,
   "metadata": {},
   "outputs": [],
   "source": [
    "themes = pd.read_csv('data/themes.csv')\n",
    "themes = themes.drop_duplicates(subset='QUESTION')\n",
    "themes_dict = get_theme(themes)"
   ]
  },
  {
   "cell_type": "code",
   "execution_count": 18,
   "metadata": {},
   "outputs": [
    {
     "data": {
      "text/plain": [
       "dict_items([('Le coeur a ses raisons que la raison ignore', 'Love'), ('Quand-on aime sait-on pourquoi', 'Love'), (\"Qu'aime-t-on dans l'amour\", 'Love'), (\"Est-il raisonnable d'aimer\", 'Love'), ('Peut-on aimer son prochain comme soi-même', 'Love'), ('Est-ce réaliste de prétendre pouvoir aimer tous les hommes', 'Love'), (\"Dans tout amour n'aime t-on que soi-même\", 'Love'), ('Pour aimer autrui faut-il le connaître', 'Love'), (\"L'amitié est-elle une forme privilégiée de la connaissance d'autrui\", 'Love'), ('Comment différencier amour et amitié', 'Love'), (\"Peut-on aimer une oeuvre d'art sans la comprendre\", 'Art'), (\"Peut-on comprendre une oeuvre d'art sans l'aimer\", 'Art'), (\"L'art peut-il manifester la vérité\", 'Art'), ('Les oeuvres d´art sont-elles des réalités comme les autres', 'Art'), ('L’art transforme-t-il notre conscience du réel', 'Art'), (\"La sensibilité aux œuvres d'art demande-t-elle à être éduquée\", 'Art'), ('Faut-il des connaissances pour apprécier une œuvre d’art', 'Art'), (\"L'art sait-il montrer ce que le langage ne peut pas dire\", 'Art'), ('En quoi la beauté artistique est-elle supérieure à la beauté naturelle', 'Art'), (\"Pourquoi les productions qui surgissent de l'esprit humain ont-elles plus de valeur que les oeuvres imitées\", 'Art'), (\"L'oeuvre d'art peut elle nous apprendre quelque chose\", 'Art'), (\"Faut-il renoncer à expliquer une oeuvre d'art\", 'Art'), (\"Une oeuvre d'art peut-elle échapper aux critères du beau et du laid\", 'Art'), (\"L'artiste peut-il être indifférent au beau\", 'Art'), (\"L'art est-il moins nécessaire que la science\", 'Art'), (\"Pouvons-nous nous passer de l'art\", 'Art'), ('Choisit-on d’être artiste', 'Art'), (\"L'art est-il une affaire de goût personnel\", 'Art'), (\"Une oeuvre d'art a-t-elle toujours un sens\", 'Art'), (\"L'art, est-ce ce qui ne sert à rien\", 'Art'), ('La beauté transforme-t-elle notre conscience du réel', 'Beauty'), ('Quelle est la relation entre la beauté et la bonté', 'Beauty'), (\"Y-a-t'il une beauté naturelle\", 'Beauty'), ('Existe-t-il un privilège de la beauté ', 'Beauty'), ('La beauté est elle promesse de bonheur ', 'Beauty'), ('En quoi le sentiment esthétique se distingue-t-il du sentiment religieux ', 'Beauty'), (\"En général quand une chose devient utile cesse-t-elle d'être belle \", 'Beauty'), ('Etre cultivé rend-il meilleur', 'Goodness'), ('La détermination du bien n’est-elle qu’une affaire d’opinion', 'Goodness'), ('Suffit-il de voir le meilleur pour le suivre', 'Goodness'), ('Peut-on vouloir le bien sans le faire', 'Goodness'), (\"Parler d'actes inhumains a-t-il un sens\", 'Goodness'), ('Comment définir le bien', 'Goodness'), ('Le sentiment moral peut-il être éduqué', 'Goodness'), ('Quel serait \"Le Mariage du Ciel et de l\\'Enfer\" de nos jours, indépendamment de la définition qu\\'en a donné William Blake il-y-a plus de 2 siècles', 'Goodness'), ('Quelle serait la ligne d\\'écriture d\\'une version moderne des \"Pensées à moi-même\", plus de 18 siècles après celle de Marc-Aurèle', 'Goodness'), ('La conscience fait-elle de l’homme une exception\\xa0 ', 'Conscience'), ('La conscience de l’individu n’est-elle que le reflet de la société à laquelle il appartient', 'Conscience'), ('Que suis-je par rapport à mon corps', 'Body & Mind'), (\"Mon corps m'appartient-il\", 'Body & Mind'), (\"Quelle différence peut-on faire entre l'esprit et le corps\\xa0 \\xa0\", 'Body & Mind'), (\"Suffit-il d'expliquer le corps pour comprendre l'esprit\", 'Body & Mind'), ('Le passionné est-il ennemi de lui-même ', 'Desire'), (\"Suis-je l'esclave de mes désirs\", 'Desire'), ('Le désir peut-il se satisfaire de la réalité', 'Desire'), ('Faut-il libérer ses désirs ou se libérer de ses désirs', 'Desire'), ('Peut-on désirer sans souffrir', 'Desire'), ('Ne désirons-nous que les choses que nous estimons bonnes', 'Desire'), (\"Peut-on dire d'un désir qu'il est anormal\", 'Desire'), (\"Est-il absurde de désirer l'impossible\", 'Desire'), ('Faut-il désirer que ce qui est accessible', 'Desire'), (\"Le désir nous impose-t-il d'en faire l'épreuve\", 'Desire'), ('Les passions nous empêchent-elles de faire notre devoir', 'Desire'), ('Nos désirs sont-ils nos faiblesses', 'Desire'), ('Le désir nous éloigne-t-il du vrai', 'Desire'), ('Savons-nous toujours ce que nous désirons', 'Desire'), ('La culture est-elle libératrice', 'Education'), ('La culture nous rend-elle plus humain', 'Education'), ('Toutes les cultures se valent-elles', 'Education'), ('Peut-on être cultivé en ignorant tout des sciences et des techniques', 'Education'), ('Quelle est la part de l´inné et de l´acquis dans le caractère', 'Education'), ('Est-on d’autant plus heureux que l’on est plus cultivé', 'Education'), ('La culture est-elle un simple ajout à la nature', 'Education'), ('Existe t-il une Nature Humaine', 'Education'), ('Exister, est-ce agir', 'Existence'), (\"L'homme n'est-il que la série de ses actes\", 'Existence'), (\"Pouvons-nous penser l'origine\", 'Existence'), (\"Exister est-ce profiter de l'instant présent\", 'Existence'), (\"Qu'est-ce qu'une journée réussie \", 'Existence'), ('Risquons nous de passer à côté de notre vie', 'Existence'), ('Quelle est \"La force majeure\" dans l\\'existence selon vous, indépendamment de la définition qu\\'en a donné Clément Rosset', 'Existence'), (\"Commentez cette pensée de Nietzsche: « Ce n'est pas le doute, c'est la certitude qui rend fou. »\", 'Madness'), (\"L'histoire est-elle une science\", 'History'), (\"Y-a-t'il des leçons de l'histoire\", 'History'), ('A-t-on besoin du passé pour construire son avenir', 'History'), ('Peut-on ignorer le passé', 'History'), (\"L'action politique doit-elle être guidée par la connaissance de l'histoire\", 'History'), (\"Qui fait l'histoire\", 'History'), ('Changer, est-ce devenir quelqu’un d’autre', 'Identity'), ('Prendre conscience de soi est-ce devenir étranger à soi', 'Identity'), ('Est-il préférable de se connaître ', 'Identity'), ('Est-on soi-même ou le devient-on', 'Identity'), ('Suis-je le sujet de mes pensées', 'Identity'), ('Peut-on être soi-même devant les autres', 'Identity'), ('Le travail permet-il de prendre conscience de soi', 'Identity'), (\"Autrui m'apprend-il quelque chose sur moi-même\", 'Identity'), ('Ne sommes-nous que la somme des choix que nous faisons', 'Identity'), ('L’imagination enrichit-elle la connaissance', 'Imagination'), (\"Qu'appelle-t-on manquer d'imagination\", 'Imagination'), ('L’idée d’inconscient exclut-elle celle de liberté\\xa0', 'The Unconscious'), (\"Admettre l'existence de l'inconscient est-ce rendre vain tout effort de lucidité à l'égard de soi même\", 'The Unconscious'), (\"Peut-on dire plus qu'on ne pense\", 'The Unconscious'), ('Faut-il préférer le bonheur à la vérité', 'Joy & Happiness'), ('La connaissance peut-elle nuire au bonheur', 'Joy & Happiness'), ('Le bonheur est-il affaire privée', 'Joy & Happiness'), (\"Le bonheur est-il dans l'inconscience \", 'Joy & Happiness'), ('Est-ce illusoire de chercher à être heureux', 'Joy & Happiness'), (\"Quoi d'autre une fois qu'on est heureux\", 'Joy & Happiness'), ('Le bonheur est-il le but de la philosophie', 'Joy & Happiness'), ('La philosophie peut-elle enseigner la joie de vivre', 'Joy & Happiness'), ('Peut-on être heureux dans un monde injuste', 'Joy & Happiness'), (\"Ne peut-on être heureux qu'au passé\", 'Joy & Happiness'), ('Le bonheur est-il le but de l’existence', 'Joy & Happiness'), ('Le bonheur se trouve-t-il dans le repos', 'Joy & Happiness'), ('Réfléchissez sur le titre du livre de Milan Kundera: \"L\\'insoutenable légèreté de l\\'être\", indépendamment de la vision de l\\'auteur', 'Joy & Happiness'), ('Pouvons-nous avoir \"La conscience tranquille\" de nos jours, indépendamment de la réflexion menée sur ce thème par Plutarque, il y a bientôt 20 siècles', 'Joy & Happiness'), (\"Le droit n'est-il que l'expression de rapports de force\", 'Justice'), (\"L'exigence de justice et l'exigence de liberté sont-elles séparables\", 'Justice'), ('Peut-on concilier les exigences de la justice et celles de la liberté ', 'Justice'), (\"Le droit n'est-il qu'une justice par défaut\", 'Justice'), (\"Pour être juste, suffit-il d'obéir aux lois\", 'Justice'), (\"Le juste et l'injuste ne sont-ils que des conventions\", 'Justice'), ('Sur quoi la justice se fonde-t-elle', 'Justice'), (\"Ressentir l'injustice m'apprend-il ce qui est juste\", 'Justice'), (\"La justice ne relève-t-elle que de l'Etat\", 'Justice'), (\"Vaut-il mieux subir l'injustice ou la commettre\", 'Justice'), ('La démocratie est-elle la garantie de lois justes', 'Justice'), ('Peut-on dire que le langage entrave la pensée', 'Language'), ('Le langage trahit-il la pensée', 'Language'), ('Faire usage du langage est-ce renoncer à la violence', 'Language'), ('Est-il nécessaire de parler pour être compris', 'Language'), (\"Le langage ne sert-il qu'à communiquer\", 'Language'), ('Y a-t-il des choses que le langage ne puisse dire', 'Language'), (\"Le langage n'est-il qu'un outil\", 'Language'), ('Toute prise de conscience est-elle libératrice', 'Freedom'), (\"Avons nous le choix d'être libre\", 'Freedom'), ('Suis-je ce que mon passé a fait de moi', 'Freedom'), (\"S'opposer à l'autorité est-ce toujours une marque de liberté\", 'Freedom'), ('Obéir, est-ce renoncer à sa liberté', 'Freedom'), (\"L'idée d'une liberté totale a-t-elle un sens\", 'Freedom'), ('Être libre, est-ce ne rencontrer aucun obstacle ', 'Freedom'), ('Pourquoi voulons-nous être libres', 'Freedom'), ('La liberté peut-elle être un fardeau', 'Freedom'), (\"Quelle est la part de l'inné et de l'acquis dans le caractère\", 'Freedom'), ('La chance existe t-elle', 'Freedom'), (\"L'esprit a-t-il accès aux choses\", 'Matter'), (\"Qu'est-ce que la matière\", 'Matter'), ('Que nous apprend la mort', 'Death'), ('Quel sens la mort donne-t-elle à notre vie', 'Death'), ('L’homme doit-il se résigner à mourir', 'Death'), ('Faut-il vivre comme si nous ne devions jamais mourir', 'Death'), ('Peut-on penser la mort', 'Death'), ('Notre liberté de pensée a-t-elle des limites', 'Thought'), ('Puis-je perdre ma liberté de penser', 'Thought'), (\"Qu'est-ce qu'une idée\", 'Thought'), ('Quelle éthique pour des machines qui pensent à notre place', 'Thought'), ('Que peut-on trouver \"Quelque part dans l\\'inachevé\", indépendamment de la réflexion menée sur le thème par Vladimir Jankelevitch', 'Thought'), ('Le philosophe doit-il gouverner', 'Philosophy'), ('La philosophie peut-elle parler de la religion', 'Philosophy'), ('La politique doit-elle faire le bonheur des citoyens ', 'Politics'), (\"L'homme est-il un animal politique\", 'Politics'), ('Qui est autorisé à me dire tu dois', 'Politics'), (\"La politique échappe-t-elle à l'exigence de vérité \", 'Politics'), (\"La perception peut-elle s'éduquer\", 'Reality'), ('Que sait-on du réel', 'Reality'), ('Les apparences sont-elles trompeuses\\xa0 \\xa0', 'Reality'), (\"Peut-on se fier à l'intuition\", 'Reality'), ('Peut-on percevoir sans juger', 'Reality'), ('Ne fait-on que fuir le réel', 'Reality'), ('Peut-on distinguer le rêve de la réalité', 'Reality'), ('Quelle serait la ligne d\\'écriture d\\'une version moderne de \"De la nature des choses\", plus de 20 siècles après celle de Lucrèce', 'Reality'), ('L’homme a-t-il nécessairement besoin de religion', 'Religion'), ('Toute croyance est-elle contraire à la raison', 'Religion'), ('La religion n’est-elle qu’un fait de culture', 'Religion'), ('Une connaissance scientifique du vivant est-elle possible', 'Science'), ('Y a-t-il des questions auxquelles aucune science ne répond', 'Science'), ('L’expérience peut-elle démontrer quelque chose', 'Science'), ('Peut-on croire sans savoir', 'Science'), (\"Les principes de la raison sont-ils issus de l'expérience \", 'Science'), ('Faut-il démontrer pour savoir', 'Science'), (\"Qu'est-ce qui a du sens\", 'Meaning'), (\"Y a-t-il plus à espérer qu'à craindre de la technique\", 'Technology'), (\"Le bonheur de l'humanité pourrait-il venir du progrès technique\", 'Technology'), ('Respecter la nature, est-ce renoncer à la transformer', 'Technology'), ('Le développement technique transforme-t-il les hommes', 'Technology'), (\"La technique ne sert-elle qu'à nous rendre maîtres de la nature\", 'Technology'), ('Serions-nous plus libres sans machines', 'Technology'), (\"L'homme est-il chez lui dans la nature \", 'Technology'), ('Les machines peuvent-elles penser', 'Technology'), ('Le temps libre est-il le temps de ma liberté', 'Time'), ('Le temps détruit tout', 'Time'), (\"Tout s'en va-t-il avec le temps\", 'Time'), ('Cela a-t-il un sens de vouloir échapper au temps', 'Time'), ('Faut-il se désoler de vivre dans le temps', 'Time'), (\"Le futur n'existe-t-il que dans notre pensée\", 'Time'), ('Exister, est-ce profiter de l’instant présent\\xa0', 'Time'), ('Le temps est-il la limite de l’homme', 'Time'), ('Connaissons-nous mieux le présent que le passé', 'Time'), ('Prendre son temps est-ce le perdre', 'Time'), ('Comment peut-il y avoir du nouveau', 'Time'), ('Le temps est-il un processus linéaire', 'Time'), ('La fête est-elle toujours un gaspillage', 'Time'), (\"Le besoin est-il l'origine du travail\", 'Work'), ('Le travail se justifie-t-il seulement par son utilité', 'Work'), ('La division du travail sépare-t-elle les hommes', 'Work'), ('Doit-on faire du travail une valeur', 'Work'), (\"Faut-il faire l'éloge du travail\", 'Work'), ('Travailler est-ce perdre son temps', 'Work'), ('Travailler moins, est-ce vivre mieux', 'Work'), ('Travailler, est-ce seulement mettre en oeuvre des techniques', 'Work'), ('Le travail éduque-t-il', 'Work'), ('La vérité dépend-elle de nous', 'Truth'), ('A quoi peut-on reconnaître la vérité', 'Truth'), ('Ce qui est vrai est-il toujours vérifiable', 'Truth'), ('La science relève-t-elle du seul désir de vérité', 'Truth'), ('La pluralité des opinions est-elle un obstacle à la vérité', 'Truth'), ('Y a-t-il d’autres moyens que la démonstration pour établir une vérité', 'Truth'), ('Quel besoin avons-nous de chercher la vérité', 'Truth'), (\"Peut-on être sûr d'avoir raison\", 'Truth'), ('Y a-t-il des vérités indiscutables', 'Truth'), ('N’y a-t-il aucune vérité dans le mensonge\\xa0 \\xa0', 'Truth'), ('Ce qui est vrai en théorie peut-il être faux en pratique', 'Truth'), ('Faut-il se méfier de la multiplicité des interprétations', 'Truth'), ('Le doute: Une force ou une faiblesse', 'Truth'), (\"Ne fait-on qu'interpréter, à défaut de connaître\", 'Truth'), ('Toutes les croyances se valent-elles', 'Truth'), (\"La politique échappe-t-elle à l'exigence de vérité\", 'Truth'), ('Peut-on avoir raison contre les faits', 'Truth'), ('Peut-on ne pas admettre la vérité', 'Truth'), ('Les hommes vivent-ils en société par intérêt', 'Living Together'), (\"L'homme est-il un animal social\", 'Living Together'), ('Respecter tout être vivant, est-ce un devoir moral', 'Living Together'), ('La solitude est-elle sans valeur', 'Living Together'), ('Une action désintéressée est-elle possible', 'Living Together'), ('Toute violence est-elle sans raison', 'Living Together'), ('Est-ce l’égalité des droits qui assure l’égalité des hommes', 'Living Together'), ('Une société juste peut-elle accepter des inégalités', 'Living Together'), (\"Qu'avons-nous à gagner à faire notre devoir\", 'Living Together'), ('Pourquoi un acte est moral', 'Living Together'), ('Que pouvons-nous savoir des autres', 'Living Together'), (\"Faut-il s'identifier à autrui pour le comprendre\", 'Living Together'), ('Peut-on concevoir une société sans conflit', 'Living Together'), ('L’Etat doit-il maintenir l’ordre ou assurer la justice', 'Living Together'), ('N’est-on responsable que de ses propres actes', 'Living Together'), (\"N'avons nous de devoirs qu'envers autrui\", 'Living Together'), ('Peut-on experimenter sur le vivant', 'Living Together'), ('Que gagne-t-on à échanger', 'Living Together'), ('Tous les échanges sont-ils profitables', 'Living Together'), ('Comment peut-il y avoir un contre-pouvoir', 'Living Together'), ('Le philosophe doit-il gouverner ', 'Living Together'), ('La morale est-elle nécessaire à la vie des hommes en société', 'Living Together'), ('Réfléchissez sur \"La condition de l\\'homme moderne\" aujourd\\'hui en 2018, indépendamment de la définition qu\\'en a donné Hannah Arendt en 1958', 'Living Together')])"
      ]
     },
     "execution_count": 18,
     "metadata": {},
     "output_type": "execute_result"
    }
   ],
   "source": [
    "themes_dict.items()"
   ]
  },
  {
   "cell_type": "markdown",
   "metadata": {},
   "source": [
    "# Create database"
   ]
  },
  {
   "cell_type": "markdown",
   "metadata": {},
   "source": [
    "## All docs"
   ]
  },
  {
   "cell_type": "code",
   "execution_count": 31,
   "metadata": {},
   "outputs": [],
   "source": [
    "folder_path = \"data/Extraits\"\n",
    "threshold = 85\n",
    "\n",
    "# This merges chunking results from ALL .docx files in folder_path\n",
    "merged_dict = chunk_all_docx_in_folder(folder_path, themes_dict, threshold=threshold)"
   ]
  },
  {
   "cell_type": "code",
   "execution_count": 37,
   "metadata": {},
   "outputs": [],
   "source": [
    "save_path = \"data/M0A_train_data.json\"\n",
    "\n",
    "save_dict_to_json(merged_dict, save_path)"
   ]
  }
 ],
 "metadata": {
  "kernelspec": {
   "display_name": "lewagon",
   "language": "python",
   "name": "python3"
  },
  "language_info": {
   "codemirror_mode": {
    "name": "ipython",
    "version": 3
   },
   "file_extension": ".py",
   "mimetype": "text/x-python",
   "name": "python",
   "nbconvert_exporter": "python",
   "pygments_lexer": "ipython3",
   "version": "3.10.6"
  }
 },
 "nbformat": 4,
 "nbformat_minor": 2
}
