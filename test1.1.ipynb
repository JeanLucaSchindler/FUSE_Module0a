{
 "cells": [
  {
   "cell_type": "code",
   "execution_count": 4,
   "metadata": {},
   "outputs": [],
   "source": [
    "from dotenv import load_dotenv\n",
    "import os\n",
    "import pandas as pd\n",
    "import time\n",
    "from tools import *\n",
    "from make_data import load_dict_from_json\n",
    "import sqlite3\n",
    "\n",
    "# Load environment variables\n",
    "load_dotenv()\n",
    "deepseek_api = os.getenv('DEEPSEEK_API_KEY')"
   ]
  },
  {
   "cell_type": "code",
   "execution_count": 2,
   "metadata": {},
   "outputs": [],
   "source": [
    "database = load_dict_from_json('data/M0A_train_data.json')\n",
    "test_sample = select_random_keys(database)"
   ]
  },
  {
   "cell_type": "code",
   "execution_count": 3,
   "metadata": {},
   "outputs": [],
   "source": [
    "themes = {\n",
    "    \"T1\": \"Conscience\",\n",
    "    \"T2\": \"Desire\",\n",
    "    \"T3\": \"Freedom\",\n",
    "    \"T4\": \"Goodness\",\n",
    "    \"T5\": \"Identity\",\n",
    "    \"T6\": \"Justice\",\n",
    "    \"T7\": \"Language\",\n",
    "    \"T8\": \"Meaning\",\n",
    "    \"T9\": \"Science\",\n",
    "    \"T10\": \"Technology\",\n",
    "    \"T11\": \"Truth\",\n",
    "    \"T12\": \"Time\",\n",
    "    \"T13\": \"Existence\",\n",
    "    \"T14\": \"Music\",\n",
    "    \"T15\": \"Imagination\",\n",
    "    \"T16\": \"The Unconscious\",\n",
    "    \"T17\": \"Education\",\n",
    "    \"T18\": \"Body & Mind\",\n",
    "    \"T19\": \"Beauty\",\n",
    "    \"T20\": \"Art\",\n",
    "    \"T21\": \"Love\",\n",
    "    \"T22\": \"Reality\",\n",
    "    \"T23\": \"Politics\",\n",
    "    \"T24\": \"Work\",\n",
    "    \"T25\": \"Living Together\",\n",
    "    \"T26\": \"Philosophy\",\n",
    "    \"T27\": \"Matter\",\n",
    "    \"T28\": \"Death\",\n",
    "    \"T29\": \"Religion\",\n",
    "    \"T30\": \"History\",\n",
    "    \"T31\": \"Thought\",\n",
    "    \"T32\": \"Madness\",\n",
    "    \"T33\": \"Joy & Happiness\"\n",
    "}"
   ]
  },
  {
   "cell_type": "markdown",
   "metadata": {},
   "source": [
    "## Test Logic"
   ]
  },
  {
   "cell_type": "code",
   "execution_count": 7,
   "metadata": {},
   "outputs": [],
   "source": [
    "def execute_test(prompts, test_sample, database, themes, model):\n",
    "    for prompt_name, prompt in prompts.items():\n",
    "        delay_between_batches = 20  # Time (in seconds) to wait between batches\n",
    "        system_instructions = prompt\n",
    "\n",
    "        def process_in_batches(test_sample, delay_between_batches, system_instructions):\n",
    "\n",
    "            results = {}\n",
    "\n",
    "            for text in test_sample:\n",
    "                allocation = get_theme_allocation(text, system_instructions, model=model).replace(']', '').replace('[', '').replace(' ', '').split(',')\n",
    "                results[text] = [themes[allocation] for allocation in allocation]\n",
    "\n",
    "                time.sleep(delay_between_batches)\n",
    "            return results\n",
    "\n",
    "        results_dict = process_in_batches(test_sample, delay_between_batches, system_instructions)\n",
    "\n",
    "        save_answers_to_sqlite('data/models_answers.db', prompt_name, results_dict, database)\n",
    "\n",
    "        y_pred = create_binary_matrix(themes, [item for key, item in results_dict.items()])\n",
    "        y_true = create_binary_matrix(themes, [database[key] for key in test_sample])\n",
    "\n",
    "        jaccard_index, hamming_loss = evaluate_metrics(y_true, y_pred)\n",
    "        personalized_loss = personalized_metric(y_true, y_pred)[0]\n",
    "\n",
    "        prompt_metrics_save(prompt_name, prompt, jaccard_index, hamming_loss, personalized_loss)"
   ]
  },
  {
   "cell_type": "code",
   "execution_count": null,
   "metadata": {},
   "outputs": [],
   "source": [
    "def update_columns(prompts):\n",
    "    for prompt_name, prompt in prompts.items():\n",
    "        tests = import_table_from_sqlite('data/prompt_metrics.db', 'prompts')\n",
    "        tests.append(prompt_name)\n",
    "\n",
    "        sdt = []\n",
    "        ci = []\n",
    "        metric = []\n",
    "\n",
    "        for prompt in tests:\n",
    "\n",
    "            conn = sqlite3.connect('data/models_answers.db')\n",
    "            df = pd.read_sql(f'SELECT * FROM {prompt}', conn)\n",
    "            conn.close()\n",
    "\n",
    "            results_dict = dict()\n",
    "\n",
    "            for index, row in df.iterrows():\n",
    "                results_dict[row['Text']] = row['output']\n",
    "\n",
    "            y_pred = create_binary_matrix(themes, [item for key, item in results_dict.items()])\n",
    "            y_true = create_binary_matrix(themes, [database[key] for key in test_sample])\n",
    "\n",
    "            sdt.append(personalized_metric(y_true, y_pred)[1])\n",
    "            ci.append(str(personalized_metric(y_true, y_pred)[2]))\n",
    "            metric.append(round(personalized_metric(y_true, y_pred)[0]))\n",
    "\n",
    "            list_ = personalized_metric(y_true, y_pred)[-1]\n",
    "            list_ = [int(o) for o in list_]\n",
    "\n",
    "            add_or_update_column('data/models_answers.db', prompt, 'personalized_metric', 'INTEGER', list_)\n",
    "\n",
    "        add_or_update_column('data/prompt_metrics.db', 'prompts', 'SDT', 'INTEGER', sdt)\n",
    "        add_or_update_column('data/prompt_metrics.db', 'prompts', 'CI', 'TEXT', ci)\n",
    "        add_or_update_column('data/prompt_metrics.db', 'prompts', 'personalized_loss', 'REAL', metric)"
   ]
  },
  {
   "cell_type": "markdown",
   "metadata": {},
   "source": [
    "## Test!"
   ]
  },
  {
   "cell_type": "code",
   "execution_count": 6,
   "metadata": {},
   "outputs": [],
   "source": [
    "# prompts = {}"
   ]
  },
  {
   "cell_type": "code",
   "execution_count": null,
   "metadata": {},
   "outputs": [],
   "source": [
    "execute_test(prompts, test_sample, database, themes, 'model_name')\n",
    "update_columns(prompts)"
   ]
  }
 ],
 "metadata": {
  "kernelspec": {
   "display_name": "lewagon",
   "language": "python",
   "name": "python3"
  },
  "language_info": {
   "codemirror_mode": {
    "name": "ipython",
    "version": 3
   },
   "file_extension": ".py",
   "mimetype": "text/x-python",
   "name": "python",
   "nbconvert_exporter": "python",
   "pygments_lexer": "ipython3",
   "version": "3.10.6"
  }
 },
 "nbformat": 4,
 "nbformat_minor": 2
}
