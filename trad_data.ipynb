{
 "cells": [
  {
   "cell_type": "code",
   "execution_count": 36,
   "metadata": {},
   "outputs": [],
   "source": [
    "import json\n",
    "from make_data import load_dict_from_json\n",
    "from tools import *\n",
    "from googletrans import Translator"
   ]
  },
  {
   "cell_type": "code",
   "execution_count": 35,
   "metadata": {},
   "outputs": [],
   "source": [
    "database = load_dict_from_json('data/M0A_train_data.json')\n",
    "test_sample = select_random_keys(database)"
   ]
  },
  {
   "cell_type": "markdown",
   "metadata": {},
   "source": [
    "# EDA"
   ]
  },
  {
   "cell_type": "code",
   "execution_count": 31,
   "metadata": {},
   "outputs": [],
   "source": [
    "from langdetect import detect, DetectorFactory\n",
    "from langdetect.lang_detect_exception import LangDetectException\n",
    "\n",
    "language_databse = {}\n",
    "\n",
    "# Ensure consistent results\n",
    "DetectorFactory.seed = 0\n",
    "\n",
    "# Use map() to apply the detection function without explicitly looping\n",
    "def detect_language(text):\n",
    "    try:\n",
    "        return detect(text)\n",
    "    except LangDetectException:\n",
    "        return \"unknown\"\n",
    "\n",
    "# Detect languages\n",
    "languages = list(map(detect_language, database.keys()))\n",
    "\n",
    "# Output the results\n",
    "for text, lang in zip(database.keys(), languages):\n",
    "    language_databse[text] = lang\n"
   ]
  },
  {
   "cell_type": "code",
   "execution_count": 32,
   "metadata": {},
   "outputs": [
    {
     "name": "stdout",
     "output_type": "stream",
     "text": [
      "Counter({'fr': 3020, 'en': 481, 'pt': 134, 'unknown': 2, 'it': 1, 'vi': 1, 'so': 1})\n"
     ]
    },
    {
     "data": {
      "image/png": "[encoded data removed]",
      "text/plain": [
       "<Figure size 640x480 with 1 Axes>"
      ]
     },
     "metadata": {},
     "output_type": "display_data"
    }
   ],
   "source": [
    "# count how many languages detected\n",
    "from collections import Counter\n",
    "language_count = Counter(languages)\n",
    "print(language_count)\n",
    "\n",
    "#plot the results but not for 'unknown', 'it', 'vi', 'so'\n",
    "import matplotlib.pyplot as plt\n",
    "import numpy as np\n",
    "\n",
    "# Remove the 'unknown' language\n",
    "del language_count['unknown']\n",
    "del language_count['it']\n",
    "del language_count['vi']\n",
    "del language_count['so']\n",
    "\n",
    "# Plot the results\n",
    "plt.figure()\n",
    "plt.bar(range(len(language_count)), list(language_count.values()), align='center')\n",
    "plt.xticks(range(len(language_count)), list(language_count.keys()))\n",
    "plt.show()"
   ]
  },
  {
   "cell_type": "markdown",
   "metadata": {},
   "source": [
    "# Translation"
   ]
  },
  {
   "cell_type": "code",
   "execution_count": 43,
   "metadata": {},
   "outputs": [],
   "source": [
    "import asyncio\n",
    "\n",
    "async def translate_data(data):\n",
    "    res = {}\n",
    "    translator = Translator()\n",
    "    for text in data:\n",
    "\n",
    "        DetectorFactory.seed = 0\n",
    "        try:\n",
    "            lang = detect(text)\n",
    "        except LangDetectException:\n",
    "            lang = \"unknown\"\n",
    "\n",
    "        if lang == 'pt' or lang == 'fr':\n",
    "            translation = await translator.translate(text, dest='en')\n",
    "            res[text] = translation.text\n",
    "        else:\n",
    "            res[text] = text\n",
    "\n",
    "    return res\n",
    "\n",
    "sample_trans = await translate_data(test_sample)"
   ]
  }
 ],
 "metadata": {
  "kernelspec": {
   "display_name": "lewagon",
   "language": "python",
   "name": "python3"
  },
  "language_info": {
   "codemirror_mode": {
    "name": "ipython",
    "version": 3
   },
   "file_extension": ".py",
   "mimetype": "text/x-python",
   "name": "python",
   "nbconvert_exporter": "python",
   "pygments_lexer": "ipython3",
   "version": "3.10.6"
  }
 },
 "nbformat": 4,
 "nbformat_minor": 2
}
